{
 "cells": [
  {
   "cell_type": "code",
   "execution_count": 4,
   "metadata": {},
   "outputs": [
    {
     "name": "stdout",
     "output_type": "stream",
     "text": [
      "Files already downloaded and verified\n"
     ]
    }
   ],
   "source": [
    "import torch\n",
    "import torchvision\n",
    "import torchvision.transforms as transforms\n",
    "from torchvision import datasets, transforms\n",
    "import torch.nn as nn\n",
    "import torch.optim as optim\n",
    "import torch.nn.functional as F\n",
    "import matplotlib.pyplot as plt\n",
    "%matplotlib inline\n",
    "import numpy as np\n",
    "\n",
    "batch_size = 100\n",
    "\n",
    "transform = transforms.Compose(\n",
    "    [transforms.ToTensor(),\n",
    "     transforms.Normalize((0.5, 0.5, 0.5), (0.5, 0.5, 0.5))])\n",
    "\n",
    "train_loader = torch.utils.data.DataLoader(datasets.CIFAR10('../', train=True, download=True, transform=transform), \n",
    "                                        batch_size=batch_size, shuffle=True)\n",
    "\n",
    "test_loader = torch.utils.data.DataLoader(datasets.CIFAR10('../', train=False, transform=transform), \n",
    "                                          batch_size=batch_size, shuffle=True)\n",
    "\n",
    "classes = ('plane', 'car', 'bird', 'cat',\n",
    "           'deer', 'dog', 'frog', 'horse', 'ship', 'truck')"
   ]
  },
  {
   "cell_type": "code",
   "execution_count": 9,
   "metadata": {},
   "outputs": [],
   "source": [
    "def train(model, train_loader, optimizer, epoch, no_print=False):\n",
    "    model.train()\n",
    "    for batch_idx, (data, target) in enumerate(train_loader):\n",
    "        optimizer.zero_grad()\n",
    "        output = model(data)\n",
    "        loss = F.nll_loss(output, target)\n",
    "        loss.backward()\n",
    "        optimizer.step()\n",
    "        if not no_print:\n",
    "            if batch_idx % log_interval == 0:\n",
    "                print('Train Epoch: {} [{}/{} ({:.0f}%)]\\tLoss: {:.6f}'.format(\n",
    "                    epoch, batch_idx * len(data), len(train_loader.dataset),\n",
    "                    100. * batch_idx / len(train_loader), loss.item()))"
   ]
  },
  {
   "cell_type": "code",
   "execution_count": 10,
   "metadata": {},
   "outputs": [],
   "source": [
    "def test(model, test_loader, no_print=False):\n",
    "    model.eval()\n",
    "    test_loss = 0\n",
    "    correct = 0\n",
    "    with torch.no_grad():\n",
    "        for data, target in test_loader:\n",
    "#             data, target = data.to(device), target.to(device)\n",
    "            output = model(data)\n",
    "            test_loss += F.nll_loss(output, target, reduction='sum').item() # sum up batch loss\n",
    "            pred = output.argmax(dim=1, keepdim=True) # get the index of the max log-probability\n",
    "            correct += pred.eq(target.view_as(pred)).sum().item()\n",
    "    test_loss /= len(test_loader.dataset)\n",
    "    \n",
    "    if not no_print:\n",
    "        print('\\nTest set: Average loss: {:.4f}, Accuracy: {}/{} ({:.0f}%)\\n'.format(\n",
    "            test_loss, correct, len(test_loader.dataset),\n",
    "            100. * correct / len(test_loader.dataset)))\n",
    "    return 100. * correct / len(test_loader.dataset)"
   ]
  },
  {
   "cell_type": "code",
   "execution_count": 11,
   "metadata": {},
   "outputs": [],
   "source": [
    "class Net_upd(nn.Module):\n",
    "    def __init__(self, layers_num=6, size_n=1000, size_m=1000):\n",
    "        super(Net_upd, self).__init__()\n",
    "        self.layers_num = layers_num\n",
    "        self.size_n = size_n\n",
    "        self.size_m = size_m\n",
    "        self.fc = nn.ModuleList()\n",
    "        self.fc.append(nn.Linear(3 * 32 * 32, size_n))\n",
    "        for i in range(1, layers_num-1):\n",
    "            self.fc.append(nn.Linear(size_m, size_n))\n",
    "        self.fc.append(nn.Linear(size_m, 10)) \n",
    "        self.ReLU = nn.ReLU()\n",
    "    \n",
    "    def forward(self, x):\n",
    "        x = self.fc[0](x.view(-1, 3 * 32*32))\n",
    "        x = self.ReLU(x)\n",
    "        for i in range(1, self.layers_num-1):\n",
    "            x = self.fc[i](x)\n",
    "            x = self.ReLU(x)\n",
    "        x = self.fc[self.layers_num-1](x)\n",
    "        return F.log_softmax(x, dim=1)\n",
    "    \n",
    "    def get_layers(self):\n",
    "        return self.fc"
   ]
  },
  {
   "cell_type": "code",
   "execution_count": 12,
   "metadata": {},
   "outputs": [],
   "source": [
    "log_interval = 50\n",
    "epochs = 10"
   ]
  },
  {
   "cell_type": "code",
   "execution_count": 13,
   "metadata": {},
   "outputs": [
    {
     "name": "stdout",
     "output_type": "stream",
     "text": [
      "1\n"
     ]
    },
    {
     "name": "stderr",
     "output_type": "stream",
     "text": [
      "/home/viga0114/Tools/anaconda3/lib/python3.7/site-packages/torch/autograd/__init__.py:132: UserWarning: CUDA initialization: Found no NVIDIA driver on your system. Please check that you have an NVIDIA GPU and installed a driver from http://www.nvidia.com/Download/index.aspx (Triggered internally at  /opt/conda/conda-bld/pytorch_1603729047590/work/c10/cuda/CUDAFunctions.cpp:100.)\n",
      "  allow_unreachable=True)  # allow_unreachable flag\n"
     ]
    },
    {
     "name": "stdout",
     "output_type": "stream",
     "text": [
      "Train Epoch: 1 [0/50000 (0%)]\tLoss: 2.303619\n",
      "Train Epoch: 1 [5000/50000 (10%)]\tLoss: 2.043408\n",
      "Train Epoch: 1 [10000/50000 (20%)]\tLoss: 2.030388\n",
      "Train Epoch: 1 [15000/50000 (30%)]\tLoss: 1.813048\n",
      "Train Epoch: 1 [20000/50000 (40%)]\tLoss: 1.883153\n",
      "Train Epoch: 1 [25000/50000 (50%)]\tLoss: 1.951766\n",
      "Train Epoch: 1 [30000/50000 (60%)]\tLoss: 1.888239\n",
      "Train Epoch: 1 [35000/50000 (70%)]\tLoss: 1.864311\n",
      "Train Epoch: 1 [40000/50000 (80%)]\tLoss: 1.700777\n",
      "Train Epoch: 1 [45000/50000 (90%)]\tLoss: 1.801364\n",
      "\n",
      "Test set: Average loss: 1.7222, Accuracy: 3613/10000 (36%)\n",
      "\n",
      "2\n",
      "Train Epoch: 2 [0/50000 (0%)]\tLoss: 1.487004\n",
      "Train Epoch: 2 [5000/50000 (10%)]\tLoss: 1.636249\n",
      "Train Epoch: 2 [10000/50000 (20%)]\tLoss: 1.653336\n",
      "Train Epoch: 2 [15000/50000 (30%)]\tLoss: 1.726930\n",
      "Train Epoch: 2 [20000/50000 (40%)]\tLoss: 1.604813\n",
      "Train Epoch: 2 [25000/50000 (50%)]\tLoss: 1.704237\n",
      "Train Epoch: 2 [30000/50000 (60%)]\tLoss: 1.529865\n",
      "Train Epoch: 2 [35000/50000 (70%)]\tLoss: 1.651959\n",
      "Train Epoch: 2 [40000/50000 (80%)]\tLoss: 1.756364\n",
      "Train Epoch: 2 [45000/50000 (90%)]\tLoss: 1.661415\n",
      "\n",
      "Test set: Average loss: 1.5708, Accuracy: 4263/10000 (43%)\n",
      "\n",
      "3\n",
      "Train Epoch: 3 [0/50000 (0%)]\tLoss: 1.209819\n",
      "Train Epoch: 3 [5000/50000 (10%)]\tLoss: 1.428144\n",
      "Train Epoch: 3 [10000/50000 (20%)]\tLoss: 1.459857\n",
      "Train Epoch: 3 [15000/50000 (30%)]\tLoss: 1.500140\n",
      "Train Epoch: 3 [20000/50000 (40%)]\tLoss: 1.410218\n",
      "Train Epoch: 3 [25000/50000 (50%)]\tLoss: 1.371430\n",
      "Train Epoch: 3 [30000/50000 (60%)]\tLoss: 1.489528\n",
      "Train Epoch: 3 [35000/50000 (70%)]\tLoss: 1.480695\n",
      "Train Epoch: 3 [40000/50000 (80%)]\tLoss: 1.240248\n",
      "Train Epoch: 3 [45000/50000 (90%)]\tLoss: 1.463123\n",
      "\n",
      "Test set: Average loss: 1.4576, Accuracy: 4792/10000 (48%)\n",
      "\n",
      "4\n",
      "Train Epoch: 4 [0/50000 (0%)]\tLoss: 1.415729\n",
      "Train Epoch: 4 [5000/50000 (10%)]\tLoss: 1.438339\n",
      "Train Epoch: 4 [10000/50000 (20%)]\tLoss: 1.467884\n",
      "Train Epoch: 4 [15000/50000 (30%)]\tLoss: 1.360170\n",
      "Train Epoch: 4 [20000/50000 (40%)]\tLoss: 1.256376\n",
      "Train Epoch: 4 [25000/50000 (50%)]\tLoss: 1.200061\n",
      "Train Epoch: 4 [30000/50000 (60%)]\tLoss: 1.378391\n",
      "Train Epoch: 4 [35000/50000 (70%)]\tLoss: 1.377907\n",
      "Train Epoch: 4 [40000/50000 (80%)]\tLoss: 1.473143\n",
      "Train Epoch: 4 [45000/50000 (90%)]\tLoss: 1.463231\n",
      "\n",
      "Test set: Average loss: 1.4081, Accuracy: 5017/10000 (50%)\n",
      "\n",
      "5\n",
      "Train Epoch: 5 [0/50000 (0%)]\tLoss: 1.241503\n",
      "Train Epoch: 5 [5000/50000 (10%)]\tLoss: 1.195143\n",
      "Train Epoch: 5 [10000/50000 (20%)]\tLoss: 1.187165\n",
      "Train Epoch: 5 [15000/50000 (30%)]\tLoss: 1.429656\n",
      "Train Epoch: 5 [20000/50000 (40%)]\tLoss: 1.353691\n",
      "Train Epoch: 5 [25000/50000 (50%)]\tLoss: 1.320515\n",
      "Train Epoch: 5 [30000/50000 (60%)]\tLoss: 1.220629\n",
      "Train Epoch: 5 [35000/50000 (70%)]\tLoss: 1.216868\n",
      "Train Epoch: 5 [40000/50000 (80%)]\tLoss: 1.502614\n",
      "Train Epoch: 5 [45000/50000 (90%)]\tLoss: 1.373690\n",
      "\n",
      "Test set: Average loss: 1.3906, Accuracy: 5069/10000 (51%)\n",
      "\n",
      "6\n",
      "Train Epoch: 6 [0/50000 (0%)]\tLoss: 1.287209\n",
      "Train Epoch: 6 [5000/50000 (10%)]\tLoss: 1.207562\n",
      "Train Epoch: 6 [10000/50000 (20%)]\tLoss: 1.365756\n",
      "Train Epoch: 6 [15000/50000 (30%)]\tLoss: 1.274154\n",
      "Train Epoch: 6 [20000/50000 (40%)]\tLoss: 1.027422\n",
      "Train Epoch: 6 [25000/50000 (50%)]\tLoss: 0.985254\n",
      "Train Epoch: 6 [30000/50000 (60%)]\tLoss: 1.333701\n",
      "Train Epoch: 6 [35000/50000 (70%)]\tLoss: 1.567997\n",
      "Train Epoch: 6 [40000/50000 (80%)]\tLoss: 1.240771\n",
      "Train Epoch: 6 [45000/50000 (90%)]\tLoss: 1.184179\n",
      "\n",
      "Test set: Average loss: 1.3787, Accuracy: 5116/10000 (51%)\n",
      "\n",
      "7\n",
      "Train Epoch: 7 [0/50000 (0%)]\tLoss: 1.098195\n",
      "Train Epoch: 7 [5000/50000 (10%)]\tLoss: 1.122038\n",
      "Train Epoch: 7 [10000/50000 (20%)]\tLoss: 1.042050\n",
      "Train Epoch: 7 [15000/50000 (30%)]\tLoss: 1.152156\n",
      "Train Epoch: 7 [20000/50000 (40%)]\tLoss: 0.939965\n",
      "Train Epoch: 7 [25000/50000 (50%)]\tLoss: 1.079598\n",
      "Train Epoch: 7 [30000/50000 (60%)]\tLoss: 1.277787\n",
      "Train Epoch: 7 [35000/50000 (70%)]\tLoss: 1.284713\n",
      "Train Epoch: 7 [40000/50000 (80%)]\tLoss: 1.160547\n",
      "Train Epoch: 7 [45000/50000 (90%)]\tLoss: 1.173027\n",
      "\n",
      "Test set: Average loss: 1.3606, Accuracy: 5219/10000 (52%)\n",
      "\n",
      "8\n",
      "Train Epoch: 8 [0/50000 (0%)]\tLoss: 0.978231\n",
      "Train Epoch: 8 [5000/50000 (10%)]\tLoss: 1.097342\n",
      "Train Epoch: 8 [10000/50000 (20%)]\tLoss: 1.059808\n",
      "Train Epoch: 8 [15000/50000 (30%)]\tLoss: 1.003555\n",
      "Train Epoch: 8 [20000/50000 (40%)]\tLoss: 1.134469\n",
      "Train Epoch: 8 [25000/50000 (50%)]\tLoss: 1.050898\n",
      "Train Epoch: 8 [30000/50000 (60%)]\tLoss: 1.122895\n",
      "Train Epoch: 8 [35000/50000 (70%)]\tLoss: 1.034915\n",
      "Train Epoch: 8 [40000/50000 (80%)]\tLoss: 1.101875\n",
      "Train Epoch: 8 [45000/50000 (90%)]\tLoss: 1.083812\n",
      "\n",
      "Test set: Average loss: 1.3614, Accuracy: 5354/10000 (54%)\n",
      "\n",
      "9\n",
      "Train Epoch: 9 [0/50000 (0%)]\tLoss: 0.897157\n",
      "Train Epoch: 9 [5000/50000 (10%)]\tLoss: 0.788812\n",
      "Train Epoch: 9 [10000/50000 (20%)]\tLoss: 0.789126\n",
      "Train Epoch: 9 [15000/50000 (30%)]\tLoss: 1.128747\n",
      "Train Epoch: 9 [20000/50000 (40%)]\tLoss: 0.861143\n",
      "Train Epoch: 9 [25000/50000 (50%)]\tLoss: 0.810107\n",
      "Train Epoch: 9 [30000/50000 (60%)]\tLoss: 0.940914\n",
      "Train Epoch: 9 [35000/50000 (70%)]\tLoss: 0.988997\n",
      "Train Epoch: 9 [40000/50000 (80%)]\tLoss: 0.972092\n",
      "Train Epoch: 9 [45000/50000 (90%)]\tLoss: 1.305272\n",
      "\n",
      "Test set: Average loss: 1.4194, Accuracy: 5303/10000 (53%)\n",
      "\n",
      "10\n",
      "Train Epoch: 10 [0/50000 (0%)]\tLoss: 0.761338\n",
      "Train Epoch: 10 [5000/50000 (10%)]\tLoss: 0.800121\n",
      "Train Epoch: 10 [10000/50000 (20%)]\tLoss: 0.790173\n",
      "Train Epoch: 10 [15000/50000 (30%)]\tLoss: 0.876700\n",
      "Train Epoch: 10 [20000/50000 (40%)]\tLoss: 0.959643\n",
      "Train Epoch: 10 [25000/50000 (50%)]\tLoss: 0.783331\n",
      "Train Epoch: 10 [30000/50000 (60%)]\tLoss: 0.714631\n",
      "Train Epoch: 10 [35000/50000 (70%)]\tLoss: 1.010422\n",
      "Train Epoch: 10 [40000/50000 (80%)]\tLoss: 1.096834\n",
      "Train Epoch: 10 [45000/50000 (90%)]\tLoss: 0.851789\n",
      "\n",
      "Test set: Average loss: 1.4711, Accuracy: 5260/10000 (53%)\n",
      "\n"
     ]
    }
   ],
   "source": [
    "model = Net_upd(epochs-2, 1000, 1000)\n",
    "optimizer = optim.Adam(model.parameters(), lr=1e-3)\n",
    "\n",
    "for epoch in range(1, epochs + 1):\n",
    "    print(epoch)\n",
    "    train(model,  train_loader, optimizer, epoch, False)\n",
    "    test(model, test_loader, False)"
   ]
  },
  {
   "cell_type": "code",
   "execution_count": 14,
   "metadata": {},
   "outputs": [],
   "source": [
    "class CompressedNet_upd(nn.Module):\n",
    "    def __init__(self, base, r):\n",
    "        super(CompressedNet_upd, self).__init__()\n",
    "        self.fc = nn.ModuleList()\n",
    "        \n",
    "        for i in range(len(base.fc)-1):\n",
    "            fc_u, fc_s, fc_v = torch.svd( model.fc[i].weight.data)\n",
    "            fc_u = torch.mm(fc_u[:,:r], torch.diag(fc_s[:r]))\n",
    "            fc_v = fc_v.t()[:r,:]\n",
    "        \n",
    "            fc_1 = nn.Linear(model.fc[i].weight.shape[1], r, bias = False)\n",
    "            fc_2 = nn.Linear(r, model.fc[i].weight.shape[0], bias=True)\n",
    "            fc_1.weight = nn.Parameter(fc_v.clone().detach())\n",
    "            fc_2.weight = nn.Parameter(fc_u.clone().detach())\n",
    "            fc_2.bias.data.copy_(base.fc[i].bias.data)\n",
    "            local_list = nn.ModuleList()\n",
    "            local_list.append(fc_1)\n",
    "            local_list.append(fc_2)\n",
    "            self.fc.append(local_list)\n",
    "        \n",
    "        fc_last = nn.Linear(base.fc[-1].weight.shape[1], base.fc[-1].weight.shape[0])\n",
    "        fc_last.weight.data.copy_( base.fc[-1].weight.data )\n",
    "        fc_last.bias  .data.copy_( base.fc[-1].bias  .data )\n",
    "        self.fc.append(fc_last)\n",
    "        self.ReLU = nn.ReLU()\n",
    "\n",
    "    def forward(self, x):\n",
    "        x = self.fc[0][0](x.view(-1, 3 * 32*32))\n",
    "        x = self.fc[0][1](x)\n",
    "        x = self.ReLU(x)\n",
    "        for i in range(1, len(self.fc)-1):\n",
    "            x = self.fc[i][0](x)\n",
    "            x = self.fc[i][1](x)\n",
    "            x = self.ReLU(x)\n",
    "        x = self.fc[-1](x)\n",
    "        return F.log_softmax(x, dim=1)"
   ]
  },
  {
   "cell_type": "code",
   "execution_count": 15,
   "metadata": {},
   "outputs": [],
   "source": [
    "r_array = [5, 10, 20, 40, 80, 160, 400, 800, 1000]"
   ]
  },
  {
   "cell_type": "code",
   "execution_count": 16,
   "metadata": {},
   "outputs": [],
   "source": [
    "acc_by_r = dict()\n",
    "time_by_r = dict()"
   ]
  },
  {
   "cell_type": "code",
   "execution_count": 18,
   "metadata": {},
   "outputs": [
    {
     "name": "stdout",
     "output_type": "stream",
     "text": [
      "3.31 s ± 156 ms per loop (mean ± std. dev. of 7 runs, 1 loop each)\n",
      "3.53 s ± 402 ms per loop (mean ± std. dev. of 7 runs, 1 loop each)\n",
      "3.46 s ± 177 ms per loop (mean ± std. dev. of 7 runs, 1 loop each)\n",
      "3.55 s ± 232 ms per loop (mean ± std. dev. of 7 runs, 1 loop each)\n",
      "3.59 s ± 137 ms per loop (mean ± std. dev. of 7 runs, 1 loop each)\n",
      "3.93 s ± 282 ms per loop (mean ± std. dev. of 7 runs, 1 loop each)\n",
      "4.87 s ± 221 ms per loop (mean ± std. dev. of 7 runs, 1 loop each)\n",
      "7.69 s ± 1.44 s per loop (mean ± std. dev. of 7 runs, 1 loop each)\n",
      "7.66 s ± 483 ms per loop (mean ± std. dev. of 7 runs, 1 loop each)\n"
     ]
    }
   ],
   "source": [
    "for r in r_array:\n",
    "    model_compressed = CompressedNet_upd(model, r)\n",
    "    acc = test(model_compressed, test_loader, True)\n",
    "    result = %timeit -o test(model_compressed, test_loader, True)\n",
    "    acc_by_r[r] = acc\n",
    "    time_by_r[r] = result"
   ]
  },
  {
   "cell_type": "code",
   "execution_count": 19,
   "metadata": {},
   "outputs": [],
   "source": [
    "import matplotlib.pyplot as plt"
   ]
  },
  {
   "cell_type": "code",
   "execution_count": 47,
   "metadata": {},
   "outputs": [],
   "source": [
    "averages = [res.average for res in time_by_r.values()]\n",
    "stdevs = [res.stdev for res in time_by_r.values()]\n",
    "used_lambdas = [rate/10 for rate in r_array]\n",
    "accs = [a for a in acc_by_r.values()]"
   ]
  },
  {
   "cell_type": "code",
   "execution_count": 48,
   "metadata": {},
   "outputs": [
    {
     "data": {
      "image/png": "[encoded data removed]",
      "text/plain": [
       "<Figure size 432x288 with 1 Axes>"
      ]
     },
     "metadata": {
      "needs_background": "light"
     },
     "output_type": "display_data"
    }
   ],
   "source": [
    "plt.errorbar(used_lambdas, averages, stdevs, linestyle='None', marker='^')\n",
    "plt.xlabel(\"Used eigenvalues, %\")\n",
    "plt.ylabel(\"Time, s\")\n",
    "plt.xscale(\"log\")\n",
    "plt.show()"
   ]
  },
  {
   "cell_type": "code",
   "execution_count": 50,
   "metadata": {},
   "outputs": [
    {
     "data": {
      "image/png": "[encoded data removed]",
      "text/plain": [
       "<Figure size 432x288 with 1 Axes>"
      ]
     },
     "metadata": {
      "needs_background": "light"
     },
     "output_type": "display_data"
    }
   ],
   "source": [
    "plt.plot(used_lambdas, accs)\n",
    "plt.xlabel(\"Used eigenvalues, %\")\n",
    "plt.ylabel(\"Accuracy, %\")\n",
    "plt.xscale(\"log\")\n",
    "plt.show()"
   ]
  },
  {
   "cell_type": "code",
   "execution_count": null,
   "metadata": {},
   "outputs": [],
   "source": []
  }
 ],
 "metadata": {
  "kernelspec": {
   "display_name": "Python 3",
   "language": "python",
   "name": "python3"
  },
  "language_info": {
   "codemirror_mode": {
    "name": "ipython",
    "version": 3
   },
   "file_extension": ".py",
   "mimetype": "text/x-python",
   "name": "python",
   "nbconvert_exporter": "python",
   "pygments_lexer": "ipython3",
   "version": "3.7.6"
  }
 },
 "nbformat": 4,
 "nbformat_minor": 4
}
